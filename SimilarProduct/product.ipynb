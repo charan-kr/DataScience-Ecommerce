{
 "cells": [
  {
   "cell_type": "code",
   "execution_count": 1,
   "id": "3c739b20",
   "metadata": {},
   "outputs": [],
   "source": [
    "import pandas as pd\n",
    "import numpy as np\n",
    "import json"
   ]
  },
  {
   "cell_type": "code",
   "execution_count": 2,
   "id": "9a5afb8f",
   "metadata": {},
   "outputs": [],
   "source": [
    "file = open('../Data/products.json')\n",
    "data = json.load(file)\n",
    "file.close()"
   ]
  },
  {
   "cell_type": "code",
   "execution_count": 3,
   "id": "fa9b688c",
   "metadata": {},
   "outputs": [
    {
     "data": {
      "text/plain": [
       "Index(['product', 'seller', 'imageUri', 'price', 'shippingOptions',\n",
       "       'offerFulfillmentOptions', 'canAddToCart'],\n",
       "      dtype='object')"
      ]
     },
     "execution_count": 3,
     "metadata": {},
     "output_type": "execute_result"
    }
   ],
   "source": [
    "df = pd.DataFrame(data)\n",
    "df.columns"
   ]
  },
  {
   "cell_type": "code",
   "execution_count": 4,
   "id": "c857151e",
   "metadata": {},
   "outputs": [],
   "source": [
    "product = [product['product'] for product in data ]\n",
    "df1 = pd.DataFrame(product)"
   ]
  },
  {
   "cell_type": "code",
   "execution_count": 5,
   "id": "3d80a2c7",
   "metadata": {},
   "outputs": [],
   "source": [
    "def flatten_json(y):\n",
    "    out = {}\n",
    "    def flatten(x, name=\"\"):\n",
    "        if type(x) is dict:\n",
    "            for a in x:\n",
    "                flatten(x[a], name+a+\"_\")\n",
    "        elif type(x) is list:\n",
    "            i = 0\n",
    "            for a in x:\n",
    "                flatten(a, name+str(i)+\"_\")\n",
    "                i+=1\n",
    "        else:\n",
    "            out[name[:-1]] = x\n",
    "    \n",
    "    flatten(y)\n",
    "    \n",
    "    return out"
   ]
  },
  {
   "cell_type": "code",
   "execution_count": 6,
   "id": "73514404",
   "metadata": {},
   "outputs": [],
   "source": [
    "normalized_data = [flatten_json(product) for product in data]"
   ]
  },
  {
   "cell_type": "code",
   "execution_count": 7,
   "id": "947edad5",
   "metadata": {},
   "outputs": [],
   "source": [
    "df = pd.DataFrame(normalized_data)"
   ]
  },
  {
   "cell_type": "code",
   "execution_count": 8,
   "id": "c2dd87d2",
   "metadata": {},
   "outputs": [
    {
     "data": {
      "text/plain": [
       "Index(['product_productId', 'product_productDesc',\n",
       "       'product_review_overAllRating', 'product_review_ratings',\n",
       "       'product_review_reviews', 'product_attributes_0',\n",
       "       'product_attributes_1', 'product_attributes_2', 'seller', 'imageUri',\n",
       "       'price_currentPrice_currencyAmount', 'price_currentPrice_currencyUnit',\n",
       "       'price_previousPrice_currencyAmount',\n",
       "       'price_previousPrice_currencyUnit',\n",
       "       'price_discountPrice_currencyAmount',\n",
       "       'price_discountPrice_currencyUnit', 'price_currentPriceType',\n",
       "       'price_priceDisplayCodes_unitPriceDisplayCondition',\n",
       "       'price_priceDisplayCodes_pricePerUnitUom',\n",
       "       'shippingOptions_1-Day_currentShipPrice_currencyAmount',\n",
       "       'shippingOptions_1-Day_currentShipPrice_currencyUnit',\n",
       "       'shippingOptions_1-Day_shipPriceDiscount_currencyAmount',\n",
       "       'shippingOptions_1-Day_shipPriceDiscount_currencyUnit',\n",
       "       'shippingOptions_Two Day_currentShipPrice_currencyAmount',\n",
       "       'shippingOptions_Two Day_currentShipPrice_currencyUnit',\n",
       "       'shippingOptions_Two Day_shipPriceDiscount_currencyAmount',\n",
       "       'shippingOptions_Two Day_shipPriceDiscount_currencyUnit',\n",
       "       'shippingOptions_3-5 Days_currentShipPrice_currencyAmount',\n",
       "       'shippingOptions_3-5 Days_currentShipPrice_currencyUnit',\n",
       "       'shippingOptions_3-5 Days_shipPriceDiscount_currencyAmount',\n",
       "       'shippingOptions_3-5 Days_shipPriceDiscount_currencyUnit',\n",
       "       'shippingOptions_Normal_currentShipPrice_currencyAmount',\n",
       "       'shippingOptions_Normal_currentShipPrice_currencyUnit',\n",
       "       'shippingOptions_Normal_shipPriceDiscount_currencyAmount',\n",
       "       'shippingOptions_Normal_shipPriceDiscount_currencyUnit',\n",
       "       'offerFulfillmentOptions_0_fulfillmentOption',\n",
       "       'offerFulfillmentOptions_0_isAvailable',\n",
       "       'offerFulfillmentOptions_0_quantity',\n",
       "       'offerFulfillmentOptions_1_fulfillmentOption',\n",
       "       'offerFulfillmentOptions_1_isAvailable',\n",
       "       'offerFulfillmentOptions_1_quantity', 'canAddToCart'],\n",
       "      dtype='object')"
      ]
     },
     "execution_count": 8,
     "metadata": {},
     "output_type": "execute_result"
    }
   ],
   "source": [
    "df.columns"
   ]
  },
  {
   "cell_type": "code",
   "execution_count": 9,
   "id": "55569ada",
   "metadata": {},
   "outputs": [
    {
     "data": {
      "text/html": [
       "<div>\n",
       "<style scoped>\n",
       "    .dataframe tbody tr th:only-of-type {\n",
       "        vertical-align: middle;\n",
       "    }\n",
       "\n",
       "    .dataframe tbody tr th {\n",
       "        vertical-align: top;\n",
       "    }\n",
       "\n",
       "    .dataframe thead th {\n",
       "        text-align: right;\n",
       "    }\n",
       "</style>\n",
       "<table border=\"1\" class=\"dataframe\">\n",
       "  <thead>\n",
       "    <tr style=\"text-align: right;\">\n",
       "      <th></th>\n",
       "      <th>product_productId</th>\n",
       "      <th>product_productDesc</th>\n",
       "      <th>product_review_overAllRating</th>\n",
       "      <th>product_review_ratings</th>\n",
       "      <th>product_review_reviews</th>\n",
       "      <th>seller</th>\n",
       "      <th>price_currentPrice_currencyAmount</th>\n",
       "      <th>price_previousPrice_currencyAmount</th>\n",
       "      <th>price_discountPrice_currencyAmount</th>\n",
       "      <th>offerFulfillmentOptions_0_quantity</th>\n",
       "      <th>offerFulfillmentOptions_0_isAvailable</th>\n",
       "      <th>canAddToCart</th>\n",
       "    </tr>\n",
       "  </thead>\n",
       "  <tbody>\n",
       "    <tr>\n",
       "      <th>0</th>\n",
       "      <td>11</td>\n",
       "      <td>itel A48 (Gradation Green, 2GB RAM, 32GB Storage)</td>\n",
       "      <td>3.5</td>\n",
       "      <td>16</td>\n",
       "      <td>2</td>\n",
       "      <td>Workload Services</td>\n",
       "      <td>5998</td>\n",
       "      <td>6999</td>\n",
       "      <td>1001</td>\n",
       "      <td>85</td>\n",
       "      <td>True</td>\n",
       "      <td>True</td>\n",
       "    </tr>\n",
       "    <tr>\n",
       "      <th>1</th>\n",
       "      <td>12</td>\n",
       "      <td>New Apple iPhone 12 Mini (128GB) - Black</td>\n",
       "      <td>4.5</td>\n",
       "      <td>440</td>\n",
       "      <td>56</td>\n",
       "      <td>Workload Services</td>\n",
       "      <td>69490</td>\n",
       "      <td>74990</td>\n",
       "      <td>5410</td>\n",
       "      <td>85</td>\n",
       "      <td>True</td>\n",
       "      <td>True</td>\n",
       "    </tr>\n",
       "    <tr>\n",
       "      <th>2</th>\n",
       "      <td>13</td>\n",
       "      <td>Redmi 9 (Sky Blue, 4GB RAM, 64GB Storage)</td>\n",
       "      <td>4.5</td>\n",
       "      <td>440</td>\n",
       "      <td>56</td>\n",
       "      <td>Workload Services</td>\n",
       "      <td>8999</td>\n",
       "      <td>10999</td>\n",
       "      <td>2000</td>\n",
       "      <td>85</td>\n",
       "      <td>True</td>\n",
       "      <td>True</td>\n",
       "    </tr>\n",
       "    <tr>\n",
       "      <th>3</th>\n",
       "      <td>14</td>\n",
       "      <td>Oppo A31 (Fantasy White, 6GB RAM, 128GB Storag...</td>\n",
       "      <td>4.0</td>\n",
       "      <td>2972</td>\n",
       "      <td>350</td>\n",
       "      <td>Workload Services</td>\n",
       "      <td>11990</td>\n",
       "      <td>15990</td>\n",
       "      <td>4000</td>\n",
       "      <td>85</td>\n",
       "      <td>True</td>\n",
       "      <td>True</td>\n",
       "    </tr>\n",
       "    <tr>\n",
       "      <th>4</th>\n",
       "      <td>15</td>\n",
       "      <td>Redmi 9A (Nature Green, 2GB Ram, 32GB Storage)...</td>\n",
       "      <td>4.0</td>\n",
       "      <td>2972</td>\n",
       "      <td>350</td>\n",
       "      <td>Workload Services</td>\n",
       "      <td>6999</td>\n",
       "      <td>8499</td>\n",
       "      <td>1500</td>\n",
       "      <td>85</td>\n",
       "      <td>True</td>\n",
       "      <td>True</td>\n",
       "    </tr>\n",
       "    <tr>\n",
       "      <th>5</th>\n",
       "      <td>16</td>\n",
       "      <td>Samsung Galaxy M21 (Midnight Blue, 4GB RAM, 64...</td>\n",
       "      <td>4.0</td>\n",
       "      <td>8159</td>\n",
       "      <td>1500</td>\n",
       "      <td>Workload Services</td>\n",
       "      <td>12999</td>\n",
       "      <td>15999</td>\n",
       "      <td>3000</td>\n",
       "      <td>85</td>\n",
       "      <td>True</td>\n",
       "      <td>True</td>\n",
       "    </tr>\n",
       "    <tr>\n",
       "      <th>6</th>\n",
       "      <td>17</td>\n",
       "      <td>Panasonic Eluga i7 (2GB RAM, 16GB Storage, Fin...</td>\n",
       "      <td>3.0</td>\n",
       "      <td>1232</td>\n",
       "      <td>356</td>\n",
       "      <td>Workload Services</td>\n",
       "      <td>5000</td>\n",
       "      <td>10999</td>\n",
       "      <td>5999</td>\n",
       "      <td>85</td>\n",
       "      <td>True</td>\n",
       "      <td>True</td>\n",
       "    </tr>\n",
       "    <tr>\n",
       "      <th>7</th>\n",
       "      <td>18</td>\n",
       "      <td>Lava Z1 (2GBRAM, 16GB Storage) Denim Blue</td>\n",
       "      <td>3.5</td>\n",
       "      <td>11</td>\n",
       "      <td>0</td>\n",
       "      <td>Workload Services</td>\n",
       "      <td>4999</td>\n",
       "      <td>5999</td>\n",
       "      <td>1000</td>\n",
       "      <td>85</td>\n",
       "      <td>True</td>\n",
       "      <td>True</td>\n",
       "    </tr>\n",
       "  </tbody>\n",
       "</table>\n",
       "</div>"
      ],
      "text/plain": [
       "   product_productId                                product_productDesc  \\\n",
       "0                 11  itel A48 (Gradation Green, 2GB RAM, 32GB Storage)   \n",
       "1                 12           New Apple iPhone 12 Mini (128GB) - Black   \n",
       "2                 13          Redmi 9 (Sky Blue, 4GB RAM, 64GB Storage)   \n",
       "3                 14  Oppo A31 (Fantasy White, 6GB RAM, 128GB Storag...   \n",
       "4                 15  Redmi 9A (Nature Green, 2GB Ram, 32GB Storage)...   \n",
       "5                 16  Samsung Galaxy M21 (Midnight Blue, 4GB RAM, 64...   \n",
       "6                 17  Panasonic Eluga i7 (2GB RAM, 16GB Storage, Fin...   \n",
       "7                 18          Lava Z1 (2GBRAM, 16GB Storage) Denim Blue   \n",
       "\n",
       "   product_review_overAllRating  product_review_ratings  \\\n",
       "0                           3.5                      16   \n",
       "1                           4.5                     440   \n",
       "2                           4.5                     440   \n",
       "3                           4.0                    2972   \n",
       "4                           4.0                    2972   \n",
       "5                           4.0                    8159   \n",
       "6                           3.0                    1232   \n",
       "7                           3.5                      11   \n",
       "\n",
       "   product_review_reviews             seller  \\\n",
       "0                       2  Workload Services   \n",
       "1                      56  Workload Services   \n",
       "2                      56  Workload Services   \n",
       "3                     350  Workload Services   \n",
       "4                     350  Workload Services   \n",
       "5                    1500  Workload Services   \n",
       "6                     356  Workload Services   \n",
       "7                       0  Workload Services   \n",
       "\n",
       "   price_currentPrice_currencyAmount  price_previousPrice_currencyAmount  \\\n",
       "0                               5998                                6999   \n",
       "1                              69490                               74990   \n",
       "2                               8999                               10999   \n",
       "3                              11990                               15990   \n",
       "4                               6999                                8499   \n",
       "5                              12999                               15999   \n",
       "6                               5000                               10999   \n",
       "7                               4999                                5999   \n",
       "\n",
       "   price_discountPrice_currencyAmount  offerFulfillmentOptions_0_quantity  \\\n",
       "0                                1001                                  85   \n",
       "1                                5410                                  85   \n",
       "2                                2000                                  85   \n",
       "3                                4000                                  85   \n",
       "4                                1500                                  85   \n",
       "5                                3000                                  85   \n",
       "6                                5999                                  85   \n",
       "7                                1000                                  85   \n",
       "\n",
       "   offerFulfillmentOptions_0_isAvailable  canAddToCart  \n",
       "0                                   True          True  \n",
       "1                                   True          True  \n",
       "2                                   True          True  \n",
       "3                                   True          True  \n",
       "4                                   True          True  \n",
       "5                                   True          True  \n",
       "6                                   True          True  \n",
       "7                                   True          True  "
      ]
     },
     "execution_count": 9,
     "metadata": {},
     "output_type": "execute_result"
    }
   ],
   "source": [
    "df[['product_productId', 'product_productDesc', 'product_review_overAllRating', 'product_review_ratings', 'product_review_reviews', 'seller', 'price_currentPrice_currencyAmount', 'price_previousPrice_currencyAmount', 'price_discountPrice_currencyAmount', 'offerFulfillmentOptions_0_quantity', 'offerFulfillmentOptions_0_isAvailable', 'canAddToCart']]"
   ]
  },
  {
   "cell_type": "code",
   "execution_count": 10,
   "id": "3e082cd2",
   "metadata": {},
   "outputs": [
    {
     "data": {
      "text/plain": [
       "(8, 42)"
      ]
     },
     "execution_count": 10,
     "metadata": {},
     "output_type": "execute_result"
    }
   ],
   "source": [
    "df.shape"
   ]
  },
  {
   "cell_type": "code",
   "execution_count": 11,
   "id": "cf9fc5b8",
   "metadata": {},
   "outputs": [
    {
     "data": {
      "text/plain": [
       "8"
      ]
     },
     "execution_count": 11,
     "metadata": {},
     "output_type": "execute_result"
    }
   ],
   "source": [
    "len(df['product_productDesc'])"
   ]
  },
  {
   "cell_type": "code",
   "execution_count": 12,
   "id": "82e45383",
   "metadata": {},
   "outputs": [
    {
     "data": {
      "text/plain": [
       "(8, 8)"
      ]
     },
     "execution_count": 12,
     "metadata": {},
     "output_type": "execute_result"
    }
   ],
   "source": [
    "len(df['product_productDesc'].unique()),len(df['product_productId'].unique())"
   ]
  },
  {
   "cell_type": "code",
   "execution_count": 13,
   "id": "8c329628",
   "metadata": {},
   "outputs": [
    {
     "data": {
      "text/plain": [
       "0    itel A48 (Gradation Green, 2GB RAM, 32GB Storage)\n",
       "1             New Apple iPhone 12 Mini (128GB) - Black\n",
       "2            Redmi 9 (Sky Blue, 4GB RAM, 64GB Storage)\n",
       "3    Oppo A31 (Fantasy White, 6GB RAM, 128GB Storag...\n",
       "4    Redmi 9A (Nature Green, 2GB Ram, 32GB Storage)...\n",
       "5    Samsung Galaxy M21 (Midnight Blue, 4GB RAM, 64...\n",
       "6    Panasonic Eluga i7 (2GB RAM, 16GB Storage, Fin...\n",
       "7            Lava Z1 (2GBRAM, 16GB Storage) Denim Blue\n",
       "Name: product_productDesc, dtype: object"
      ]
     },
     "execution_count": 13,
     "metadata": {},
     "output_type": "execute_result"
    }
   ],
   "source": [
    "df.product_productDesc"
   ]
  },
  {
   "cell_type": "code",
   "execution_count": 14,
   "id": "464ebbcc",
   "metadata": {},
   "outputs": [
    {
     "name": "stdout",
     "output_type": "stream",
     "text": [
      "<class 'pandas.core.frame.DataFrame'>\n",
      "RangeIndex: 8 entries, 0 to 7\n",
      "Data columns (total 42 columns):\n",
      " #   Column                                                     Non-Null Count  Dtype  \n",
      "---  ------                                                     --------------  -----  \n",
      " 0   product_productId                                          8 non-null      int64  \n",
      " 1   product_productDesc                                        8 non-null      object \n",
      " 2   product_review_overAllRating                               8 non-null      float64\n",
      " 3   product_review_ratings                                     8 non-null      int64  \n",
      " 4   product_review_reviews                                     8 non-null      int64  \n",
      " 5   product_attributes_0                                       8 non-null      object \n",
      " 6   product_attributes_1                                       8 non-null      object \n",
      " 7   product_attributes_2                                       8 non-null      object \n",
      " 8   seller                                                     8 non-null      object \n",
      " 9   imageUri                                                   8 non-null      object \n",
      " 10  price_currentPrice_currencyAmount                          8 non-null      int64  \n",
      " 11  price_currentPrice_currencyUnit                            8 non-null      object \n",
      " 12  price_previousPrice_currencyAmount                         8 non-null      int64  \n",
      " 13  price_previousPrice_currencyUnit                           8 non-null      object \n",
      " 14  price_discountPrice_currencyAmount                         8 non-null      int64  \n",
      " 15  price_discountPrice_currencyUnit                           8 non-null      object \n",
      " 16  price_currentPriceType                                     8 non-null      object \n",
      " 17  price_priceDisplayCodes_unitPriceDisplayCondition          8 non-null      object \n",
      " 18  price_priceDisplayCodes_pricePerUnitUom                    8 non-null      object \n",
      " 19  shippingOptions_1-Day_currentShipPrice_currencyAmount      8 non-null      int64  \n",
      " 20  shippingOptions_1-Day_currentShipPrice_currencyUnit        8 non-null      object \n",
      " 21  shippingOptions_1-Day_shipPriceDiscount_currencyAmount     8 non-null      int64  \n",
      " 22  shippingOptions_1-Day_shipPriceDiscount_currencyUnit       8 non-null      object \n",
      " 23  shippingOptions_Two Day_currentShipPrice_currencyAmount    8 non-null      int64  \n",
      " 24  shippingOptions_Two Day_currentShipPrice_currencyUnit      8 non-null      object \n",
      " 25  shippingOptions_Two Day_shipPriceDiscount_currencyAmount   8 non-null      int64  \n",
      " 26  shippingOptions_Two Day_shipPriceDiscount_currencyUnit     8 non-null      object \n",
      " 27  shippingOptions_3-5 Days_currentShipPrice_currencyAmount   8 non-null      int64  \n",
      " 28  shippingOptions_3-5 Days_currentShipPrice_currencyUnit     8 non-null      object \n",
      " 29  shippingOptions_3-5 Days_shipPriceDiscount_currencyAmount  8 non-null      int64  \n",
      " 30  shippingOptions_3-5 Days_shipPriceDiscount_currencyUnit    8 non-null      object \n",
      " 31  shippingOptions_Normal_currentShipPrice_currencyAmount     8 non-null      int64  \n",
      " 32  shippingOptions_Normal_currentShipPrice_currencyUnit       8 non-null      object \n",
      " 33  shippingOptions_Normal_shipPriceDiscount_currencyAmount    8 non-null      int64  \n",
      " 34  shippingOptions_Normal_shipPriceDiscount_currencyUnit      8 non-null      object \n",
      " 35  offerFulfillmentOptions_0_fulfillmentOption                8 non-null      object \n",
      " 36  offerFulfillmentOptions_0_isAvailable                      8 non-null      bool   \n",
      " 37  offerFulfillmentOptions_0_quantity                         8 non-null      int64  \n",
      " 38  offerFulfillmentOptions_1_fulfillmentOption                8 non-null      object \n",
      " 39  offerFulfillmentOptions_1_isAvailable                      8 non-null      bool   \n",
      " 40  offerFulfillmentOptions_1_quantity                         8 non-null      int64  \n",
      " 41  canAddToCart                                               8 non-null      bool   \n",
      "dtypes: bool(3), float64(1), int64(16), object(22)\n",
      "memory usage: 2.6+ KB\n"
     ]
    }
   ],
   "source": [
    "df.info()"
   ]
  },
  {
   "cell_type": "code",
   "execution_count": 15,
   "id": "7b925835",
   "metadata": {},
   "outputs": [
    {
     "data": {
      "text/plain": [
       "{'product': {'productId': 11,\n",
       "  'productDesc': 'itel A48 (Gradation Green, 2GB RAM, 32GB Storage)',\n",
       "  'review': {'overAllRating': 3.5, 'ratings': 16, 'reviews': 2},\n",
       "  'attributes': ['Operating System : t1',\n",
       "   'Ultra HD (4K) 3840 x 2160 Pixels',\n",
       "   '120 Hz Refresh Rate']},\n",
       " 'seller': 'Workload Services',\n",
       " 'imageUri': 'https://m.media-amazon.com/images/I/41QsvcpKaZL._AC_UY218_.jpg',\n",
       " 'price': {'currentPrice': {'currencyAmount': 5998, 'currencyUnit': 'INR'},\n",
       "  'previousPrice': {'currencyAmount': 6999, 'currencyUnit': 'INR'},\n",
       "  'discountPrice': {'currencyAmount': 1001, 'currencyUnit': 'INR'},\n",
       "  'currentPriceType': 'Discounted',\n",
       "  'priceDisplayCodes': {'unitPriceDisplayCondition': '(8.8 cents/OZ)',\n",
       "   'pricePerUnitUom': 'OZ'}},\n",
       " 'shippingOptions': {'1-Day': {'currentShipPrice': {'currencyAmount': 500,\n",
       "    'currencyUnit': 'INR'},\n",
       "   'shipPriceDiscount': {'currencyAmount': 200, 'currencyUnit': 'INR'}},\n",
       "  'Two Day': {'currentShipPrice': {'currencyAmount': 500,\n",
       "    'currencyUnit': 'INR'},\n",
       "   'shipPriceDiscount': {'currencyAmount': 300, 'currencyUnit': 'INR'}},\n",
       "  '3-5 Days': {'currentShipPrice': {'currencyAmount': 500,\n",
       "    'currencyUnit': 'INR'},\n",
       "   'shipPriceDiscount': {'currencyAmount': 400, 'currencyUnit': 'INR'}},\n",
       "  'Normal': {'currentShipPrice': {'currencyAmount': 500,\n",
       "    'currencyUnit': 'INR'},\n",
       "   'shipPriceDiscount': {'currencyAmount': 500, 'currencyUnit': 'INR'}}},\n",
       " 'offerFulfillmentOptions': [{'fulfillmentOption': 'S2H',\n",
       "   'isAvailable': True,\n",
       "   'quantity': 85},\n",
       "  {'fulfillmentOption': 'S2W', 'isAvailable': True, 'quantity': 85}],\n",
       " 'canAddToCart': True}"
      ]
     },
     "execution_count": 15,
     "metadata": {},
     "output_type": "execute_result"
    }
   ],
   "source": [
    "data[0]"
   ]
  },
  {
   "cell_type": "code",
   "execution_count": 16,
   "id": "37c0ccda",
   "metadata": {},
   "outputs": [],
   "source": [
    "from sklearn.feature_extraction.text import TfidfVectorizer\n",
    "tfv = TfidfVectorizer(max_features=None,\n",
    "                     strip_accents='unicode',\n",
    "                     analyzer='word',\n",
    "#                      min_df=8,\n",
    "                     token_pattern=r'\\w{1,}',\n",
    "                     ngram_range=(1,3),#take the combination of 1-3 different kind of words\n",
    "                     stop_words='english')#removes all the unnecessary characters like the,in etc."
   ]
  },
  {
   "cell_type": "code",
   "execution_count": 17,
   "id": "4f70275d",
   "metadata": {},
   "outputs": [],
   "source": [
    "#fitting the description column.\n",
    "tfv_matrix = tfv.fit_transform(df['product_productDesc'])#converting everythinng to sparse matrix."
   ]
  },
  {
   "cell_type": "code",
   "execution_count": 18,
   "id": "00c74c8d",
   "metadata": {},
   "outputs": [
    {
     "data": {
      "text/plain": [
       "<8x174 sparse matrix of type '<class 'numpy.float64'>'\n",
       "\twith 213 stored elements in Compressed Sparse Row format>"
      ]
     },
     "execution_count": 18,
     "metadata": {},
     "output_type": "execute_result"
    }
   ],
   "source": [
    "tfv_matrix"
   ]
  },
  {
   "cell_type": "code",
   "execution_count": 19,
   "id": "b37cf3af",
   "metadata": {},
   "outputs": [
    {
     "data": {
      "text/plain": [
       "(8, 174)"
      ]
     },
     "execution_count": 19,
     "metadata": {},
     "output_type": "execute_result"
    }
   ],
   "source": [
    "tfv_matrix.shape"
   ]
  },
  {
   "cell_type": "code",
   "execution_count": 20,
   "id": "50982b0d",
   "metadata": {},
   "outputs": [],
   "source": [
    "from sklearn.metrics.pairwise import sigmoid_kernel\n",
    "sig = sigmoid_kernel(tfv_matrix,tfv_matrix)#how description of first product is related to first product and so on."
   ]
  },
  {
   "cell_type": "code",
   "execution_count": 39,
   "id": "6734d25c",
   "metadata": {},
   "outputs": [
    {
     "data": {
      "text/plain": [
       "array([0.76159416, 0.76399726, 0.76159416, 0.76166368, 0.76159416,\n",
       "       0.76159416, 0.76166531, 0.76159416])"
      ]
     },
     "execution_count": 39,
     "metadata": {},
     "output_type": "execute_result"
    }
   ],
   "source": [
    "sig[1]"
   ]
  },
  {
   "cell_type": "code",
   "execution_count": 22,
   "id": "e16c98ca",
   "metadata": {},
   "outputs": [],
   "source": [
    "indices = pd.Series(df.index,index=df['product_productDesc']).drop_duplicates()"
   ]
  },
  {
   "cell_type": "code",
   "execution_count": 23,
   "id": "e0bd0db0",
   "metadata": {},
   "outputs": [
    {
     "data": {
      "text/plain": [
       "product_productDesc\n",
       "itel A48 (Gradation Green, 2GB RAM, 32GB Storage)                                               0\n",
       "New Apple iPhone 12 Mini (128GB) - Black                                                        1\n",
       "Redmi 9 (Sky Blue, 4GB RAM, 64GB Storage)                                                       2\n",
       "Oppo A31 (Fantasy White, 6GB RAM, 128GB Storage) with No Cost EMI/Additional Exchange Offers    3\n",
       "Redmi 9A (Nature Green, 2GB Ram, 32GB Storage) | 2GHz Octa-core Helio G25 Processor             4\n",
       "Samsung Galaxy M21 (Midnight Blue, 4GB RAM, 64GB Storage)                                       5\n",
       "Panasonic Eluga i7 (2GB RAM, 16GB Storage, Finger Print Sensor, 4000mAh Battery) (Black)        6\n",
       "Lava Z1 (2GBRAM, 16GB Storage) Denim Blue                                                       7\n",
       "dtype: int64"
      ]
     },
     "execution_count": 23,
     "metadata": {},
     "output_type": "execute_result"
    }
   ],
   "source": [
    "indices.head(20)"
   ]
  },
  {
   "cell_type": "code",
   "execution_count": 24,
   "id": "17dbd430",
   "metadata": {},
   "outputs": [],
   "source": [
    "def product_recommendation(title,sig=sig):\n",
    "    indx = indices[title]\n",
    "    \n",
    "    #getting pairwise similarity scores\n",
    "    sig_scores = list(enumerate(sig[indx]))\n",
    "    \n",
    "    #sorting products\n",
    "    sig_scores = sorted(sig_scores, key=lambda x: x[1], reverse=True)\n",
    "    \n",
    "    #10 most similar products score\n",
    "    sig_scores = sig_scores[1:11]\n",
    "    \n",
    "    #product indexes\n",
    "    product_indices = [i[0] for i in sig_scores]\n",
    "    \n",
    "    #Top 10 most similar products\n",
    "    return df['product_productDesc'].iloc[product_indices]"
   ]
  },
  {
   "cell_type": "code",
   "execution_count": 25,
   "id": "e4765b5b",
   "metadata": {},
   "outputs": [
    {
     "data": {
      "text/plain": [
       "8"
      ]
     },
     "execution_count": 25,
     "metadata": {},
     "output_type": "execute_result"
    }
   ],
   "source": [
    "len(df['product_productDesc'])"
   ]
  },
  {
   "cell_type": "code",
   "execution_count": 26,
   "id": "cf2cc833",
   "metadata": {},
   "outputs": [
    {
     "data": {
      "text/plain": [
       "(8, 8)"
      ]
     },
     "execution_count": 26,
     "metadata": {},
     "output_type": "execute_result"
    }
   ],
   "source": [
    "len(df['product_productDesc'].unique()),len(df['product_productId'].unique())"
   ]
  },
  {
   "cell_type": "code",
   "execution_count": 40,
   "id": "bec6f1a3",
   "metadata": {},
   "outputs": [
    {
     "name": "stdout",
     "output_type": "stream",
     "text": [
      "Enter the name of the product: New Apple iPhone 12 Mini (128GB) - Black\n",
      "\n",
      "Top Recommended products are: \n",
      "\n",
      "['Panasonic Eluga i7 (2GB RAM, 16GB Storage, Finger Print Sensor, 4000mAh Battery) (Black)'\n",
      " 'Oppo A31 (Fantasy White, 6GB RAM, 128GB Storage) with No Cost EMI/Additional Exchange Offers'\n",
      " 'itel A48 (Gradation Green, 2GB RAM, 32GB Storage)'\n",
      " 'Redmi 9 (Sky Blue, 4GB RAM, 64GB Storage)'\n",
      " 'Redmi 9A (Nature Green, 2GB Ram, 32GB Storage) | 2GHz Octa-core Helio G25 Processor'\n",
      " 'Samsung Galaxy M21 (Midnight Blue, 4GB RAM, 64GB Storage)'\n",
      " 'Lava Z1 (2GBRAM, 16GB Storage) Denim Blue']\n"
     ]
    }
   ],
   "source": [
    "n=input(\"Enter the name of the product: \")\n",
    "print(\"\\nTop Recommended products are: \\n\")\n",
    "print(product_recommendation(n).unique())"
   ]
  },
  {
   "cell_type": "code",
   "execution_count": null,
   "id": "dd22cb25",
   "metadata": {},
   "outputs": [],
   "source": []
  },
  {
   "cell_type": "code",
   "execution_count": null,
   "id": "c3ad62bb",
   "metadata": {},
   "outputs": [],
   "source": []
  }
 ],
 "metadata": {
  "kernelspec": {
   "display_name": "Python 3",
   "language": "python",
   "name": "python3"
  },
  "language_info": {
   "codemirror_mode": {
    "name": "ipython",
    "version": 3
   },
   "file_extension": ".py",
   "mimetype": "text/x-python",
   "name": "python",
   "nbconvert_exporter": "python",
   "pygments_lexer": "ipython3",
   "version": "3.8.3"
  }
 },
 "nbformat": 4,
 "nbformat_minor": 5
}
