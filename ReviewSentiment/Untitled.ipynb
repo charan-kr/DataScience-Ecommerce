{
 "cells": [
  {
   "cell_type": "code",
   "execution_count": 1,
   "id": "27776ea5",
   "metadata": {},
   "outputs": [],
   "source": [
    "import pandas as pd\n",
    "import numpy as np\n",
    "import bz2"
   ]
  },
  {
   "cell_type": "code",
   "execution_count": 2,
   "id": "2450dc9a",
   "metadata": {},
   "outputs": [],
   "source": [
    "def get_labels_texts(file):\n",
    "    labels = []\n",
    "    texts  = []\n",
    "    for line in bz2.BZ2File(file):\n",
    "        x = line.decode('utf-8')\n",
    "        labels.append(int(x[9])-1)\n",
    "        texts.append(x[10:].strip())\n",
    "        \n",
    "    return np.array(labels), texts\n",
    "\n",
    "train_labels, train_texts = get_labels_texts(\"../Data/amazon/train.ft.txt.bz2\")\n",
    "test_labels, test_texts = get_labels_texts(\"../Data/amazon/test.ft.txt.bz2\")"
   ]
  },
  {
   "cell_type": "code",
   "execution_count": 3,
   "id": "792d2b56",
   "metadata": {},
   "outputs": [
    {
     "data": {
      "text/plain": [
       "1"
      ]
     },
     "execution_count": 3,
     "metadata": {},
     "output_type": "execute_result"
    }
   ],
   "source": [
    "train_labels[0]"
   ]
  },
  {
   "cell_type": "code",
   "execution_count": 4,
   "id": "f27b02ee",
   "metadata": {},
   "outputs": [
    {
     "data": {
      "text/plain": [
       "'Stuning even for the non-gamer: This sound track was beautiful! It paints the senery in your mind so well I would recomend it even to people who hate vid. game music! I have played the game Chrono Cross but out of all of the games I have ever played it has the best music! It backs away from crude keyboarding and takes a fresher step with grate guitars and soulful orchestras. It would impress anyone who cares to listen! ^_^'"
      ]
     },
     "execution_count": 4,
     "metadata": {},
     "output_type": "execute_result"
    }
   ],
   "source": [
    "train_texts[0]"
   ]
  },
  {
   "cell_type": "code",
   "execution_count": 5,
   "id": "84ea3ad1",
   "metadata": {},
   "outputs": [],
   "source": [
    "small_train_labels = train_labels[0:500]\n",
    "small_train_texts  = train_texts[0:500]"
   ]
  },
  {
   "cell_type": "markdown",
   "id": "078c81ac",
   "metadata": {},
   "source": [
    "## Text PreProcessing"
   ]
  },
  {
   "cell_type": "code",
   "execution_count": 6,
   "id": "d5fbb455",
   "metadata": {},
   "outputs": [],
   "source": [
    "import re\n",
    "\n",
    "NON_ALPHANUMERIC = re.compile(r'[\\W]')\n",
    "NON_ASCII        = re.compile(r'[^a-z0-1\\S]')\n",
    "\n",
    "def normalize_text(texts):\n",
    "    normalized_list = []\n",
    "    for text in texts:\n",
    "        lower = text.lower()\n",
    "        no_punctuation = NON_ALPHANUMERIC.sub(r' ',lower)\n",
    "        no_non_ascii   = NON_ASCII.sub(r' ',no_punctuation)\n",
    "        \n",
    "        # split and join to remove extra spaces between words\n",
    "        clean_text = no_non_ascii.split(\" \")\n",
    "        clean_text = \" \".join([word for word in clean_text if word])\n",
    "        \n",
    "        normalized_list.append(clean_text)\n",
    "        \n",
    "    return normalized_list"
   ]
  },
  {
   "cell_type": "code",
   "execution_count": 7,
   "id": "3bb8e14a",
   "metadata": {},
   "outputs": [],
   "source": [
    "small_train_texts = normalize_text(small_train_texts)"
   ]
  },
  {
   "cell_type": "code",
   "execution_count": 8,
   "id": "434bb2ce",
   "metadata": {},
   "outputs": [
    {
     "data": {
      "text/plain": [
       "'stuning even for the non gamer this sound track was beautiful it paints the senery in your mind so well i would recomend it even to people who hate vid game music i have played the game chrono cross but out of all of the games i have ever played it has the best music it backs away from crude keyboarding and takes a fresher step with grate guitars and soulful orchestras it would impress anyone who cares to listen _'"
      ]
     },
     "execution_count": 8,
     "metadata": {},
     "output_type": "execute_result"
    }
   ],
   "source": [
    "small_train_texts[0]"
   ]
  },
  {
   "cell_type": "markdown",
   "id": "9131a7f7",
   "metadata": {},
   "source": [
    "## Count Vectorizer"
   ]
  },
  {
   "cell_type": "code",
   "execution_count": 9,
   "id": "31d259d0",
   "metadata": {},
   "outputs": [],
   "source": [
    "from sklearn.feature_extraction.text import CountVectorizer \n",
    "\n",
    "cv = CountVectorizer(binary=True)"
   ]
  },
  {
   "cell_type": "code",
   "execution_count": 10,
   "id": "b865c36f",
   "metadata": {},
   "outputs": [
    {
     "data": {
      "text/plain": [
       "CountVectorizer(binary=True)"
      ]
     },
     "execution_count": 10,
     "metadata": {},
     "output_type": "execute_result"
    }
   ],
   "source": [
    "cv.fit(small_train_texts)"
   ]
  },
  {
   "cell_type": "code",
   "execution_count": 11,
   "id": "857d51e8",
   "metadata": {},
   "outputs": [],
   "source": [
    "X = cv.transform(small_train_texts)"
   ]
  },
  {
   "cell_type": "code",
   "execution_count": 12,
   "id": "1b0903f1",
   "metadata": {},
   "outputs": [],
   "source": [
    "X_test  =  cv.transform(test_texts)"
   ]
  },
  {
   "cell_type": "code",
   "execution_count": 13,
   "id": "6b0cd6e2",
   "metadata": {},
   "outputs": [
    {
     "data": {
      "text/plain": [
       "<400000x5853 sparse matrix of type '<class 'numpy.int64'>'\n",
       "\twith 18679328 stored elements in Compressed Sparse Row format>"
      ]
     },
     "execution_count": 13,
     "metadata": {},
     "output_type": "execute_result"
    }
   ],
   "source": [
    "X_test"
   ]
  },
  {
   "cell_type": "code",
   "execution_count": 18,
   "id": "a3eaa76d",
   "metadata": {},
   "outputs": [
    {
     "name": "stdout",
     "output_type": "stream",
     "text": [
      "Accuracy for C:0.01, 0.76\n",
      "Accuracy for C:0.025, 0.752\n",
      "Accuracy for C:0.05, 0.752\n",
      "Accuracy for C:0.75, 0.768\n",
      "Accuracy for C:1, 0.768\n"
     ]
    }
   ],
   "source": [
    "from sklearn.linear_model import LogisticRegression \n",
    "from sklearn.metrics import accuracy_score \n",
    "from sklearn.model_selection import train_test_split \n",
    "\n",
    "X_train , X_val, y_train, y_val = train_test_split(X, small_train_labels, train_size = 0.75)\n",
    "\n",
    "for c in [0.01, 0.025, 0.05, 0.75, 1]:\n",
    "    lr = LogisticRegression(C=c)\n",
    "    lr.fit(X_train, y_train)\n",
    "    print(f'Accuracy for C:{c}, {accuracy_score(y_val, lr.predict(X_val))}')"
   ]
  },
  {
   "cell_type": "code",
   "execution_count": 23,
   "id": "70848817",
   "metadata": {},
   "outputs": [
    {
     "data": {
      "text/plain": [
       "array([1])"
      ]
     },
     "execution_count": 23,
     "metadata": {},
     "output_type": "execute_result"
    }
   ],
   "source": [
    "lr.predict(X_test[9])"
   ]
  },
  {
   "cell_type": "code",
   "execution_count": 24,
   "id": "07bc21ac",
   "metadata": {},
   "outputs": [
    {
     "data": {
      "text/plain": [
       "0"
      ]
     },
     "execution_count": 24,
     "metadata": {},
     "output_type": "execute_result"
    }
   ],
   "source": [
    "test_labels[9]"
   ]
  },
  {
   "cell_type": "markdown",
   "id": "e072f7c8",
   "metadata": {},
   "source": [
    "# TEST CASE"
   ]
  },
  {
   "cell_type": "code",
   "execution_count": 34,
   "id": "cea68745",
   "metadata": {},
   "outputs": [],
   "source": [
    "test  =  cv.transform(['this is a not a good product!, but it crashed the next day making my heart go'])"
   ]
  },
  {
   "cell_type": "code",
   "execution_count": 41,
   "id": "b9348a60",
   "metadata": {},
   "outputs": [
    {
     "data": {
      "text/plain": [
       "array([1, 1, 0, 1, 1, 0, 0, 0, 1, 1, 1, 0, 0, 0, 0, 0, 1, 1, 1, 1, 1, 0,\n",
       "       1, 1, 0, 1, 0, 0, 1, 0, 1, 0, 1, 1, 0, 0, 1, 1, 0, 1, 1, 1, 1, 1,\n",
       "       0, 0, 0, 0, 0, 0])"
      ]
     },
     "execution_count": 41,
     "metadata": {},
     "output_type": "execute_result"
    }
   ],
   "source": [
    "lr.predict(X_test[:50])"
   ]
  },
  {
   "cell_type": "code",
   "execution_count": 44,
   "id": "4bd0e8d3",
   "metadata": {},
   "outputs": [
    {
     "data": {
      "text/plain": [
       "array([1, 1, 0, 1, 1, 0, 0, 0, 1, 0, 1, 0, 0, 1, 0, 0, 1, 1, 1, 1, 0, 0,\n",
       "       1, 1, 0, 0, 1, 0, 1, 0, 1, 1, 1, 1, 1, 0, 1, 0, 1, 0, 1, 0, 1, 1,\n",
       "       1, 1, 0, 0, 0, 1])"
      ]
     },
     "execution_count": 44,
     "metadata": {},
     "output_type": "execute_result"
    }
   ],
   "source": [
    "test_labels[0:50]"
   ]
  },
  {
   "cell_type": "code",
   "execution_count": 47,
   "id": "02a6e149",
   "metadata": {},
   "outputs": [
    {
     "data": {
      "text/plain": [
       "0.73"
      ]
     },
     "execution_count": 47,
     "metadata": {},
     "output_type": "execute_result"
    }
   ],
   "source": [
    "accuracy_score(test_labels[150:250], lr.predict(X_test[150:250]))"
   ]
  },
  {
   "cell_type": "code",
   "execution_count": null,
   "id": "6e3052b6",
   "metadata": {},
   "outputs": [],
   "source": []
  }
 ],
 "metadata": {
  "kernelspec": {
   "display_name": "Python 3",
   "language": "python",
   "name": "python3"
  },
  "language_info": {
   "codemirror_mode": {
    "name": "ipython",
    "version": 3
   },
   "file_extension": ".py",
   "mimetype": "text/x-python",
   "name": "python",
   "nbconvert_exporter": "python",
   "pygments_lexer": "ipython3",
   "version": "3.8.3"
  }
 },
 "nbformat": 4,
 "nbformat_minor": 5
}
